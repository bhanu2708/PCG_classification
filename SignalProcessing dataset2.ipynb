{
 "cells": [
  {
   "cell_type": "code",
   "execution_count": 1,
   "metadata": {},
   "outputs": [
    {
     "name": "stderr",
     "output_type": "stream",
     "text": [
      "Using TensorFlow backend.\n"
     ]
    }
   ],
   "source": [
    "import pandas as pd\n",
    "import numpy as np\n",
    "from numpy import argmax\n",
    "import matplotlib.pyplot as plt\n",
    "%matplotlib inline\n",
    "import librosa\n",
    "import librosa.display\n",
    "import IPython.display\n",
    "import random\n",
    "import warnings\n",
    "import os\n",
    "from PIL import Image\n",
    "import pathlib\n",
    "import csv\n",
    "# sklearn Preprocessing\n",
    "from sklearn.model_selection import train_test_split\n",
    "#Keras\n",
    "import keras\n",
    "import warnings\n",
    "warnings.filterwarnings('ignore')\n",
    "from keras import layers\n",
    "from keras.layers import Activation, Dense, Dropout, Conv2D, Flatten, MaxPooling2D, GlobalMaxPooling2D, GlobalAveragePooling1D, AveragePooling2D, Input, Add\n",
    "from keras.models import Sequential"
   ]
  },
  {
   "cell_type": "code",
   "execution_count": 2,
   "metadata": {
    "scrolled": true
   },
   "outputs": [
    {
     "name": "stdout",
     "output_type": "stream",
     "text": [
      "(110250,)\n",
      "(110250,)\n",
      "(110250,)\n",
      "(110250,)\n",
      "(110250,)\n",
      "(110250,)\n",
      "(76369,)\n",
      "(110250,)\n",
      "(110250,)\n",
      "(110250,)\n",
      "(110250,)\n",
      "(110250,)\n",
      "(110250,)\n",
      "(110250,)\n",
      "(109452,)\n",
      "(110250,)\n",
      "(110250,)\n",
      "(110250,)\n",
      "(110250,)\n",
      "(110250,)\n",
      "(110250,)\n",
      "(110250,)\n",
      "(110250,)\n",
      "(110250,)\n",
      "(110250,)\n",
      "(110250,)\n",
      "(110250,)\n",
      "(110250,)\n",
      "(110250,)\n",
      "(110250,)\n",
      "(110250,)\n",
      "(110250,)\n",
      "(110250,)\n",
      "(110250,)\n",
      "(110250,)\n",
      "(110250,)\n",
      "(110250,)\n",
      "(110250,)\n",
      "(20647,)\n",
      "(110250,)\n",
      "(106433,)\n",
      "(110250,)\n",
      "(110250,)\n",
      "(110250,)\n",
      "(110250,)\n",
      "(110250,)\n",
      "(110250,)\n",
      "(110250,)\n",
      "(110250,)\n",
      "(110250,)\n",
      "(110250,)\n",
      "(110250,)\n",
      "(110250,)\n",
      "(110250,)\n",
      "(110250,)\n",
      "(110250,)\n",
      "(110250,)\n",
      "(110250,)\n",
      "(110250,)\n",
      "(110250,)\n",
      "(110250,)\n",
      "(110250,)\n",
      "(110250,)\n",
      "(110250,)\n",
      "(110250,)\n",
      "(110250,)\n",
      "(110250,)\n",
      "(110250,)\n",
      "(110250,)\n",
      "(110250,)\n",
      "(110250,)\n",
      "(110250,)\n",
      "(110250,)\n",
      "(110250,)\n",
      "(110250,)\n",
      "(110250,)\n",
      "(110250,)\n",
      "(110250,)\n",
      "(110250,)\n",
      "(110250,)\n",
      "(110250,)\n",
      "(110250,)\n",
      "(110250,)\n",
      "(110250,)\n",
      "(110250,)\n",
      "(110250,)\n",
      "(110250,)\n",
      "(110250,)\n",
      "(110250,)\n",
      "(110250,)\n",
      "(110250,)\n",
      "(110250,)\n",
      "(110250,)\n",
      "(110250,)\n",
      "(110250,)\n",
      "(110250,)\n",
      "(110250,)\n",
      "(110250,)\n",
      "(110250,)\n",
      "(110250,)\n",
      "(110250,)\n",
      "(110250,)\n",
      "(110250,)\n",
      "(110250,)\n",
      "(110250,)\n",
      "(110250,)\n",
      "(110250,)\n",
      "(110250,)\n",
      "(110250,)\n",
      "(110250,)\n",
      "(110250,)\n",
      "(110250,)\n",
      "(110250,)\n",
      "(110250,)\n",
      "(110250,)\n",
      "(110250,)\n",
      "(110250,)\n",
      "(110250,)\n",
      "(110250,)\n",
      "(110250,)\n",
      "(20647,)\n",
      "(42940,)\n",
      "(71341,)\n",
      "(36278,)\n"
     ]
    },
    {
     "data": {
      "text/plain": [
       "<Figure size 432x288 with 0 Axes>"
      ]
     },
     "metadata": {},
     "output_type": "display_data"
    }
   ],
   "source": [
    "Classifier = 'Atraining_normal Atraining_murmur Atraining_artifact Atraining_extrahls'.split()\n",
    "for i in Classifier:\n",
    "    pathlib.Path(f'J:/Mtech/signal processing/project/dataset2/{i}').mkdir(parents=True, exist_ok=True)\n",
    "    for filename in os.listdir(f'J:/Mtech/signal processing/project/dataset2/{i}'):\n",
    "        songname = f'J:/Mtech/signal processing/project/dataset2/{i}/{filename}'\n",
    "        y, sr = librosa.load(songname, mono=True, duration=5)\n",
    "        print(y.shape)\n",
    "        plt.specgram(y, NFFT=256, Fs=2, Fc=0, noverlap=128, cmap='CMRmap', sides='default', mode='default', scale='dB');\n",
    "        plt.axis('off');\n",
    "        plt.savefig(f'J:/Mtech/signal processing/project/dataset2/New folder2/{i}/{filename[:-3].replace(\".\", \"\")}.png')\n",
    "        plt.clf()"
   ]
  },
  {
   "cell_type": "code",
   "execution_count": 3,
   "metadata": {},
   "outputs": [
    {
     "name": "stderr",
     "output_type": "stream",
     "text": [
      "Copying files: 124 files [00:00, 348.52 files/s]\n"
     ]
    }
   ],
   "source": [
    "import split_folders\n",
    "# To only split into training and validation set, set a tuple to `ratio`, i.e, `(.8, .2)`.\n",
    "split_folders.ratio('J:/Mtech/signal processing/project/dataset2/New folder2/', output=\"./data5\", seed=1337, ratio=(.8, .2))"
   ]
  },
  {
   "cell_type": "code",
   "execution_count": 2,
   "metadata": {},
   "outputs": [],
   "source": [
    "from keras.preprocessing.image import ImageDataGenerator\n",
    "train_datagen = ImageDataGenerator(\n",
    "        rescale=1./255, # rescale all pixel values from 0-255, so aftre this step all our pixel values are in range (0,1)\n",
    "        shear_range=0.2, #to apply some random tranfromations\n",
    "        zoom_range=0.2, #to apply zoom\n",
    "        horizontal_flip=True) # image will be flipper horiz\n",
    "test_datagen = ImageDataGenerator(rescale=1./255)"
   ]
  },
  {
   "cell_type": "code",
   "execution_count": 3,
   "metadata": {},
   "outputs": [
    {
     "name": "stdout",
     "output_type": "stream",
     "text": [
      "Found 98 images belonging to 4 classes.\n",
      "Found 26 images belonging to 4 classes.\n"
     ]
    }
   ],
   "source": [
    "training_set = train_datagen.flow_from_directory(\n",
    "        './data5/train',\n",
    "        target_size=(64, 64),\n",
    "        batch_size=49,\n",
    "        class_mode='categorical',\n",
    "        shuffle = False)\n",
    "test_set = test_datagen.flow_from_directory(\n",
    "        './data5/val',\n",
    "        target_size=(64, 64),\n",
    "        batch_size=13,\n",
    "        class_mode='categorical',\n",
    "        shuffle = False )"
   ]
  },
  {
   "cell_type": "code",
   "execution_count": 4,
   "metadata": {},
   "outputs": [
    {
     "name": "stdout",
     "output_type": "stream",
     "text": [
      "WARNING:tensorflow:From C:\\Users\\bhanu\\Anaconda3\\envs\\nlp_course\\lib\\site-packages\\tensorflow\\python\\framework\\op_def_library.py:263: colocate_with (from tensorflow.python.framework.ops) is deprecated and will be removed in a future version.\n",
      "Instructions for updating:\n",
      "Colocations handled automatically by placer.\n",
      "_________________________________________________________________\n",
      "Layer (type)                 Output Shape              Param #   \n",
      "=================================================================\n",
      "conv2d_1 (Conv2D)            (None, 31, 31, 64)        1792      \n",
      "_________________________________________________________________\n",
      "average_pooling2d_1 (Average (None, 30, 30, 64)        0         \n",
      "_________________________________________________________________\n",
      "activation_1 (Activation)    (None, 30, 30, 64)        0         \n",
      "_________________________________________________________________\n",
      "conv2d_2 (Conv2D)            (None, 30, 30, 64)        36928     \n",
      "_________________________________________________________________\n",
      "average_pooling2d_2 (Average (None, 29, 29, 64)        0         \n",
      "_________________________________________________________________\n",
      "activation_2 (Activation)    (None, 29, 29, 64)        0         \n",
      "_________________________________________________________________\n",
      "conv2d_3 (Conv2D)            (None, 29, 29, 64)        36928     \n",
      "_________________________________________________________________\n",
      "average_pooling2d_3 (Average (None, 28, 28, 64)        0         \n",
      "_________________________________________________________________\n",
      "activation_3 (Activation)    (None, 28, 28, 64)        0         \n",
      "_________________________________________________________________\n",
      "conv2d_4 (Conv2D)            (None, 28, 28, 64)        36928     \n",
      "_________________________________________________________________\n",
      "average_pooling2d_4 (Average (None, 27, 27, 64)        0         \n",
      "_________________________________________________________________\n",
      "activation_4 (Activation)    (None, 27, 27, 64)        0         \n",
      "_________________________________________________________________\n",
      "flatten_1 (Flatten)          (None, 46656)             0         \n",
      "_________________________________________________________________\n",
      "dense_1 (Dense)              (None, 128)               5972096   \n",
      "_________________________________________________________________\n",
      "activation_5 (Activation)    (None, 128)               0         \n",
      "_________________________________________________________________\n",
      "dense_2 (Dense)              (None, 128)               16512     \n",
      "_________________________________________________________________\n",
      "activation_6 (Activation)    (None, 128)               0         \n",
      "_________________________________________________________________\n",
      "dense_3 (Dense)              (None, 128)               16512     \n",
      "_________________________________________________________________\n",
      "activation_7 (Activation)    (None, 128)               0         \n",
      "_________________________________________________________________\n",
      "dense_4 (Dense)              (None, 128)               16512     \n",
      "_________________________________________________________________\n",
      "activation_8 (Activation)    (None, 128)               0         \n",
      "_________________________________________________________________\n",
      "dense_5 (Dense)              (None, 4)                 516       \n",
      "_________________________________________________________________\n",
      "activation_9 (Activation)    (None, 4)                 0         \n",
      "=================================================================\n",
      "Total params: 6,134,724\n",
      "Trainable params: 6,134,724\n",
      "Non-trainable params: 0\n",
      "_________________________________________________________________\n"
     ]
    }
   ],
   "source": [
    "model = Sequential()\n",
    "input_shape=(64, 64, 3)\n",
    "#1st hidden layer\n",
    "model.add(Conv2D(64, (3, 3), strides=(2, 2), input_shape=input_shape))\n",
    "model.add(AveragePooling2D((2, 2), strides=(1,1)))\n",
    "model.add(Activation('relu'))\n",
    "#2nd hidden layer\n",
    "model.add(Conv2D(64, (3, 3), padding=\"same\"))\n",
    "model.add(AveragePooling2D((2, 2), strides=(1,1)))\n",
    "model.add(Activation('relu'))\n",
    "#3rd hidden layer\n",
    "model.add(Conv2D(64, (3, 3), padding=\"same\"))\n",
    "model.add(AveragePooling2D((2, 2), strides=(1,1)))\n",
    "model.add(Activation('relu'))\n",
    "#4th hidden layer\n",
    "model.add(Conv2D(64, (3, 3), padding=\"same\"))\n",
    "model.add(AveragePooling2D((2, 2), strides=(1,1)))\n",
    "model.add(Activation('relu'))\n",
    "#Flatten\n",
    "model.add(Flatten())\n",
    "#model.add(Dropout(rate=0.5))\n",
    "#Add fully connected layer.\n",
    "model.add(Dense(128))\n",
    "model.add(Activation('relu'))\n",
    "#model.add(Dropout(rate=0.5))\n",
    "#Add fully connected layer.\n",
    "model.add(Dense(128))\n",
    "model.add(Activation('relu'))\n",
    "#model.add(Dropout(rate=0.5))\n",
    "#Add fully connected layer.\n",
    "model.add(Dense(128))\n",
    "model.add(Activation('relu'))\n",
    "#model.add(Dropout(rate=0.5))\n",
    "#Add fully connected layer.\n",
    "model.add(Dense(128))\n",
    "model.add(Activation('relu'))\n",
    "#model.add(Dropout(rate=0.5))\n",
    "#Output layer\n",
    "model.add(Dense(4))\n",
    "model.add(Activation('softmax'))\n",
    "model.summary()"
   ]
  },
  {
   "cell_type": "code",
   "execution_count": 5,
   "metadata": {},
   "outputs": [],
   "source": [
    "model.compile(optimizer=\"adam\", loss=\"logcosh\", metrics=['accuracy'])"
   ]
  },
  {
   "cell_type": "code",
   "execution_count": 39,
   "metadata": {
    "scrolled": true
   },
   "outputs": [
    {
     "name": "stdout",
     "output_type": "stream",
     "text": [
      "Epoch 1/20\n",
      "2/2 [==============================] - 1s 735ms/step - loss: 0.0138 - acc: 0.9184\n",
      "Epoch 2/20\n",
      "2/2 [==============================] - 1s 624ms/step - loss: 0.0140 - acc: 0.9286\n",
      "Epoch 3/20\n",
      "2/2 [==============================] - 1s 658ms/step - loss: 0.0120 - acc: 0.9388\n",
      "Epoch 4/20\n",
      "2/2 [==============================] - 1s 684ms/step - loss: 0.0127 - acc: 0.9286\n",
      "Epoch 5/20\n",
      "2/2 [==============================] - 1s 703ms/step - loss: 0.0106 - acc: 0.9388\n",
      "Epoch 6/20\n",
      "2/2 [==============================] - 1s 606ms/step - loss: 0.0106 - acc: 0.9592\n",
      "Epoch 7/20\n",
      "2/2 [==============================] - 1s 641ms/step - loss: 0.0135 - acc: 0.9286\n",
      "Epoch 8/20\n",
      "2/2 [==============================] - 1s 684ms/step - loss: 0.0137 - acc: 0.9490\n",
      "Epoch 9/20\n",
      "2/2 [==============================] - 1s 616ms/step - loss: 0.0151 - acc: 0.8980\n",
      "Epoch 10/20\n",
      "2/2 [==============================] - 1s 613ms/step - loss: 0.0144 - acc: 0.9082\n",
      "Epoch 11/20\n",
      "2/2 [==============================] - 1s 631ms/step - loss: 0.0136 - acc: 0.9286\n",
      "Epoch 12/20\n",
      "2/2 [==============================] - 1s 672ms/step - loss: 0.0156 - acc: 0.9082\n",
      "Epoch 13/20\n",
      "2/2 [==============================] - 1s 655ms/step - loss: 0.0118 - acc: 0.9286\n",
      "Epoch 14/20\n",
      "2/2 [==============================] - 1s 644ms/step - loss: 0.0120 - acc: 0.9286\n",
      "Epoch 15/20\n",
      "2/2 [==============================] - 1s 651ms/step - loss: 0.0177 - acc: 0.8776\n",
      "Epoch 16/20\n",
      "2/2 [==============================] - 1s 699ms/step - loss: 0.0181 - acc: 0.8878\n",
      "Epoch 17/20\n",
      "2/2 [==============================] - 1s 670ms/step - loss: 0.0155 - acc: 0.8980\n",
      "Epoch 18/20\n",
      "2/2 [==============================] - 1s 615ms/step - loss: 0.0128 - acc: 0.9184\n",
      "Epoch 19/20\n",
      "2/2 [==============================] - 1s 645ms/step - loss: 0.0164 - acc: 0.8980\n",
      "Epoch 20/20\n",
      "2/2 [==============================] - 1s 625ms/step - loss: 0.0148 - acc: 0.9286\n"
     ]
    },
    {
     "data": {
      "text/plain": [
       "<tensorflow.python.keras.callbacks.History at 0x1f387d9da48>"
      ]
     },
     "execution_count": 39,
     "metadata": {},
     "output_type": "execute_result"
    }
   ],
   "source": [
    "model.fit_generator(\n",
    "        training_set,\n",
    "        steps_per_epoch=10,\n",
    "        epochs=20)"
   ]
  },
  {
   "cell_type": "code",
   "execution_count": 22,
   "metadata": {},
   "outputs": [],
   "source": [
    "import tensorflow as tf\n",
    "model=tf.keras.models.load_model('dataset2_model.h5')"
   ]
  },
  {
   "cell_type": "code",
   "execution_count": 11,
   "metadata": {
    "scrolled": true
   },
   "outputs": [
    {
     "data": {
      "text/plain": [
       "[0.03363821282982826, 0.8461538553237915]"
      ]
     },
     "execution_count": 11,
     "metadata": {},
     "output_type": "execute_result"
    }
   ],
   "source": [
    "model.evaluate_generator(generator=test_set, steps=50)"
   ]
  },
  {
   "cell_type": "code",
   "execution_count": 23,
   "metadata": {},
   "outputs": [],
   "source": [
    "output = model.predict_generator(test_set,steps = 2)"
   ]
  },
  {
   "cell_type": "code",
   "execution_count": 24,
   "metadata": {},
   "outputs": [],
   "source": [
    "output=np.argmax(output,axis=1)"
   ]
  },
  {
   "cell_type": "code",
   "execution_count": 25,
   "metadata": {},
   "outputs": [
    {
     "data": {
      "text/plain": [
       "array([0, 0, 0, 0, 0, 0, 0, 3, 1, 1, 3, 2, 2, 2, 2, 2, 2, 2, 2, 1, 3, 3,\n",
       "       3, 3, 3, 3], dtype=int64)"
      ]
     },
     "execution_count": 25,
     "metadata": {},
     "output_type": "execute_result"
    }
   ],
   "source": [
    "output"
   ]
  },
  {
   "cell_type": "code",
   "execution_count": 26,
   "metadata": {},
   "outputs": [],
   "source": [
    "true_labels=test_set.classes"
   ]
  },
  {
   "cell_type": "code",
   "execution_count": 27,
   "metadata": {},
   "outputs": [],
   "source": [
    "from sklearn.metrics import confusion_matrix,classification_report,accuracy_score"
   ]
  },
  {
   "cell_type": "code",
   "execution_count": 28,
   "metadata": {},
   "outputs": [
    {
     "data": {
      "text/plain": [
       "array([[7, 0, 0, 1],\n",
       "       [0, 2, 1, 1],\n",
       "       [0, 0, 7, 0],\n",
       "       [0, 1, 0, 6]], dtype=int64)"
      ]
     },
     "execution_count": 28,
     "metadata": {},
     "output_type": "execute_result"
    }
   ],
   "source": [
    "confusion_matrix(true_labels,output)"
   ]
  },
  {
   "cell_type": "code",
   "execution_count": 29,
   "metadata": {},
   "outputs": [
    {
     "data": {
      "text/plain": [
       "0.8461538461538461"
      ]
     },
     "execution_count": 29,
     "metadata": {},
     "output_type": "execute_result"
    }
   ],
   "source": [
    "accuracy_score(true_labels,output)"
   ]
  },
  {
   "cell_type": "code",
   "execution_count": 30,
   "metadata": {},
   "outputs": [
    {
     "name": "stdout",
     "output_type": "stream",
     "text": [
      "              precision    recall  f1-score   support\n",
      "\n",
      "           0       1.00      0.88      0.93         8\n",
      "           1       0.67      0.50      0.57         4\n",
      "           2       0.88      1.00      0.93         7\n",
      "           3       0.75      0.86      0.80         7\n",
      "\n",
      "    accuracy                           0.85        26\n",
      "   macro avg       0.82      0.81      0.81        26\n",
      "weighted avg       0.85      0.85      0.84        26\n",
      "\n"
     ]
    }
   ],
   "source": [
    "print(classification_report(true_labels,output))"
   ]
  },
  {
   "cell_type": "code",
   "execution_count": null,
   "metadata": {},
   "outputs": [],
   "source": []
  }
 ],
 "metadata": {
  "kernelspec": {
   "display_name": "Python 3",
   "language": "python",
   "name": "python3"
  },
  "language_info": {
   "codemirror_mode": {
    "name": "ipython",
    "version": 3
   },
   "file_extension": ".py",
   "mimetype": "text/x-python",
   "name": "python",
   "nbconvert_exporter": "python",
   "pygments_lexer": "ipython3",
   "version": "3.7.6"
  }
 },
 "nbformat": 4,
 "nbformat_minor": 4
}
